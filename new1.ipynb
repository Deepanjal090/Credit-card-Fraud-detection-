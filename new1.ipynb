{
 "cells": [
  {
   "cell_type": "code",
   "execution_count": 1,
   "id": "e1576ec3",
   "metadata": {},
   "outputs": [
    {
     "name": "stderr",
     "output_type": "stream",
     "text": [
      "Could not save font_manager cache Lock error: Matplotlib failed to acquire the following lock file:\n",
      "    C:\\Users\\deepa\\.matplotlib\\fontlist-v390.json.matplotlib-lock\n",
      "This maybe due to another process holding this lock file.  If you are sure no\n",
      "other Matplotlib process is running, remove this file and try again.\n"
     ]
    }
   ],
   "source": [
    "import os\n",
    "import re\n",
    "import numpy as np\n",
    "import pandas as pd\n",
    "import matplotlib.pyplot as plt\n",
    "\n",
    "from sklearn.model_selection import train_test_split, cross_val_score\n",
    "from sklearn.preprocessing import StandardScaler\n",
    "from sklearn.discriminant_analysis import LinearDiscriminantAnalysis\n",
    "from sklearn.metrics import (\n",
    "    accuracy_score,\n",
    "    confusion_matrix,\n",
    "    roc_auc_score,\n",
    "    roc_curve,\n",
    "    classification_report\n",
    ")\n",
    "\n"
   ]
  },
  {
   "cell_type": "code",
   "execution_count": 2,
   "id": "ebd19117",
   "metadata": {},
   "outputs": [],
   "source": [
    "# ------------------ 1) Load dataset ------------------\n",
    "path = \"creditcard_2023.csv\"\n",
    "df = pd.read_csv(path)\n",
    "\n"
   ]
  },
  {
   "cell_type": "code",
   "execution_count": 3,
   "id": "fc4a863f",
   "metadata": {},
   "outputs": [],
   "source": [
    "# ------------------ 2) Detect target column ------------------\n",
    "preferred_names = ['Class', 'class', 'Fraud', 'fraud', 'isFraud', 'IsFraud', 'target', 'Target', 'label', 'Label', 'y']\n",
    "\n",
    "target_col = None\n",
    "for name in preferred_names:\n",
    "    if name in df.columns:\n",
    "        target_col = name\n",
    "        break\n",
    "\n"
   ]
  },
  {
   "cell_type": "code",
   "execution_count": 4,
   "id": "552f7d9f",
   "metadata": {},
   "outputs": [],
   "source": [
    "# If not found by name, try to infer a binary target column\n",
    "def find_binary_target(dataframe):\n",
    "    # candidate binary columns\n",
    "    binary_cols = []\n",
    "    for col in dataframe.columns:\n",
    "        unique_vals = dataframe[col].dropna().unique()\n",
    "        if len(unique_vals) == 2:\n",
    "            # numeric or boolean preferred\n",
    "            if pd.api.types.is_numeric_dtype(dataframe[col]) or pd.api.types.is_bool_dtype(dataframe[col]):\n",
    "                binary_cols.append(col)\n",
    "    if not binary_cols:\n",
    "        return None\n",
    "    # pick the most imbalanced binary column (fraud tends to be minority)\n",
    "    best_col, best_ratio = None, 1.0\n",
    "    for col in binary_cols:\n",
    "        val_counts = dataframe[col].value_counts(normalize=True, dropna=True)\n",
    "        # minority class proportion\n",
    "        minority = val_counts.min()\n",
    "        if minority < best_ratio:\n",
    "            best_ratio = minority\n",
    "            best_col = col\n",
    "    return best_col\n",
    "\n",
    "if target_col is None:\n",
    "    target_col = find_binary_target(df)\n",
    "\n",
    "if target_col is None:\n",
    "    raise ValueError(\n",
    "        \"Could not automatically detect a binary target column. \"\n",
    "        f\"Available columns: {list(df.columns)}. \"\n",
    "        \"Please rename your label to one of \"\n",
    "        \"['Class','Fraud','isFraud','target','label','y'] or provide a binary label column.\"\n",
    "    )\n",
    "\n"
   ]
  },
  {
   "cell_type": "code",
   "execution_count": 5,
   "id": "d7588486",
   "metadata": {},
   "outputs": [],
   "source": [
    "# ------------------ Basic info ------------------\n",
    "report_lines = []\n",
    "report_lines.append(f\"Detected target column: {target_col}\")\n",
    "\n"
   ]
  },
  {
   "cell_type": "code",
   "execution_count": 6,
   "id": "59e4dbbd",
   "metadata": {},
   "outputs": [],
   "source": [
    "# ------------------ Handle categorical/non-numeric features (one-hot encode) ------------------\n",
    "# Exclude the target from dummies\n",
    "X_df = df.drop(columns=[target_col])\n",
    "y = df[target_col]\n",
    "\n"
   ]
  },
  {
   "cell_type": "code",
   "execution_count": 7,
   "id": "897eef96",
   "metadata": {},
   "outputs": [],
   "source": [
    "# Fill any missing values before encoding\n",
    "# For numeric columns: fill with median; for object columns: fill with most frequent\n",
    "for col in X_df.columns:\n",
    "    if pd.api.types.is_numeric_dtype(X_df[col]):\n",
    "        X_df[col] = X_df[col].fillna(X_df[col].median())\n",
    "    else:\n",
    "        X_df[col] = X_df[col].fillna(X_df[col].mode().iloc[0] if not X_df[col].mode().empty else \"missing\")\n",
    "\n"
   ]
  },
  {
   "cell_type": "code",
   "execution_count": 8,
   "id": "4bff3721",
   "metadata": {},
   "outputs": [],
   "source": [
    "# One-hot encode non-numeric columns\n",
    "X_df = pd.get_dummies(X_df, drop_first=True)\n",
    "\n"
   ]
  },
  {
   "cell_type": "code",
   "execution_count": 10,
   "id": "9b77cf14",
   "metadata": {},
   "outputs": [],
   "source": [
    "# Ensure y is numeric binary {0,1}\n",
    "if pd.api.types.is_bool_dtype(y):\n",
    "    y = y.astype(int)\n",
    "# If labels are strings like 'fraud'/'legit', map to 1/0 by minority class heuristic\n",
    "if not pd.api.types.is_numeric_dtype(y):\n",
    "    vc = y.value_counts()\n",
    "    if len(vc) == 2:\n",
    "        labels_sorted = vc.index.tolist()\n",
    "        # minority label becomes 1\n",
    "        mapping = {labels_sorted[0]: 0, labels_sorted[1]: 1}\n",
    "        if vc.iloc[0] > vc.iloc[1]:\n",
    "            # swap so minority gets 1\n",
    "            mapping = {labels_sorted[0]: 0, labels_sorted[1]: 1}\n",
    "        else:\n",
    "            mapping = {labels_sorted[0]: 1, labels_sorted[1]: 0}\n",
    "        y = y.map(mapping)\n",
    "    else:\n",
    "        raise ValueError(f\"Target column '{target_col}' is not binary. Unique values: {y.unique()}\")\n",
    "\n",
    "# Verify binary 0/1\n",
    "unique_y = sorted(pd.Series(y.unique()).dropna().tolist())\n",
    "if not (len(unique_y) == 2 and set(unique_y) == {0, 1}):\n",
    "    raise ValueError(f\"Target column '{target_col}' is not binary 0/1 after processing. Found: {unique_y}\")\n",
    "\n"
   ]
  },
  {
   "cell_type": "code",
   "execution_count": 13,
   "id": "ae621382",
   "metadata": {},
   "outputs": [
    {
     "name": "stdout",
     "output_type": "stream",
     "text": [
      "Cross-Validation Accuracy: 98.89 %\n",
      "Cross-Validation Standard Deviation: 0.03 %\n"
     ]
    }
   ],
   "source": [
    "# Class balance summary\n",
    "class_counts = pd.Series(y).value_counts()\n",
    "report_lines.append(\"Class distribution:\\n\" + str(class_counts))\n",
    "\n",
    "# ------------------ 3) Train/Test split ------------------\n",
    "X_train, X_test, y_train, y_test = train_test_split(\n",
    "    X_df.values, y.values, test_size=0.2, random_state=42, stratify=y.values\n",
    ")\n",
    "\n",
    "# ------------------ 4) Create and evaluate model using cross-validation ------------------\n",
    "classifier = LinearDiscriminantAnalysis()\n",
    "\n",
    "accuracies = cross_val_score(\n",
    "    estimator=classifier,\n",
    "    X=X_train,\n",
    "    y=y_train,\n",
    "    cv=10,\n",
    ")\n",
    "\n",
    "print(\"Cross-Validation Accuracy: {:.2f} %\".format(accuracies.mean() * 100))\n",
    "print(\"Cross-Validation Standard Deviation: {:.2f} %\".format(accuracies.std() * 100))\n"
   ]
  }
 ],
 "metadata": {
  "kernelspec": {
   "display_name": ".venv",
   "language": "python",
   "name": "python3"
  },
  "language_info": {
   "codemirror_mode": {
    "name": "ipython",
    "version": 3
   },
   "file_extension": ".py",
   "mimetype": "text/x-python",
   "name": "python",
   "nbconvert_exporter": "python",
   "pygments_lexer": "ipython3",
   "version": "3.12.10"
  }
 },
 "nbformat": 4,
 "nbformat_minor": 5
}
